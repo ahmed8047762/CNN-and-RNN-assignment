{
 "cells": [
  {
   "cell_type": "code",
   "execution_count": 2,
   "metadata": {},
   "outputs": [],
   "source": [
    "import os\n",
    "import numpy as np\n",
    "from tensorflow.keras.preprocessing.image import load_img, img_to_array\n",
    "from tensorflow.keras.models import load_model"
   ]
  },
  {
   "cell_type": "code",
   "execution_count": 3,
   "metadata": {},
   "outputs": [],
   "source": [
    "# Load the trained CNN model\n",
    "model = load_model('skin_cancer_cnn_model.h5')"
   ]
  },
  {
   "cell_type": "code",
   "execution_count": 4,
   "metadata": {},
   "outputs": [],
   "source": [
    "# Dictionary mapping class indices to lesion types\n",
    "lesion_type_dict = {\n",
    "    0: 'Melanocytic nevi',\n",
    "    1: 'Melanoma',\n",
    "    2: 'Benign keratosis-like lesions',\n",
    "    3: 'Basal cell carcinoma',\n",
    "    4: 'Actinic keratoses',\n",
    "    5: 'Vascular lesions',\n",
    "    6: 'Dermatofibroma'\n",
    "}"
   ]
  },
  {
   "cell_type": "code",
   "execution_count": 5,
   "metadata": {},
   "outputs": [],
   "source": [
    "# Function to preprocess the input image and make predictions\n",
    "def predict_skin_cancer(image_path):\n",
    "    try:\n",
    "        # Load and preprocess the input image\n",
    "        img = load_img(image_path, target_size=(100, 75))\n",
    "        img_array = img_to_array(img)\n",
    "        img_array = np.expand_dims(img_array, axis=0)  # Add batch dimension\n",
    "\n",
    "        # Predict the class probabilities\n",
    "        predictions = model.predict(img_array)\n",
    "\n",
    "        # Get the predicted class index and corresponding lesion type\n",
    "        predicted_class_index = np.argmax(predictions)\n",
    "        predicted_lesion_type = lesion_type_dict[predicted_class_index]\n",
    "\n",
    "        # Print the prediction\n",
    "        print(f\"Predicted Lesion Type: {predicted_lesion_type}\")\n",
    "    except Exception as e:\n",
    "        print(f\"Error: {e}\")"
   ]
  },
  {
   "cell_type": "code",
   "execution_count": 6,
   "metadata": {},
   "outputs": [],
   "source": [
    "# Main function to take user input and make predictions\n",
    "def main():\n",
    "    try:\n",
    "        # Ask user for the image file path\n",
    "        image_path = input(\"Enter the path to the skin lesion image (JPEG format): \").strip()\n",
    "\n",
    "        # Check if the provided path is valid\n",
    "        if not os.path.exists(image_path) or not image_path.lower().endswith('.jpg'):\n",
    "            print(\"Invalid or unsupported file format. Please provide a valid JPEG image.\")\n",
    "        else:\n",
    "            # Make predictions\n",
    "            predict_skin_cancer(image_path)\n",
    "    except KeyboardInterrupt:\n",
    "        print(\"\\nPrediction process interrupted.\")\n",
    "    except Exception as e:\n",
    "        print(f\"Error: {e}\")"
   ]
  },
  {
   "cell_type": "code",
   "execution_count": 9,
   "metadata": {},
   "outputs": [
    {
     "name": "stdout",
     "output_type": "stream",
     "text": [
      "1/1 [==============================] - 0s 55ms/step\n",
      "Predicted Lesion Type: Actinic keratoses\n"
     ]
    }
   ],
   "source": [
    "# Entry point of the script\n",
    "if __name__ == \"__main__\":\n",
    "    main()"
   ]
  },
  {
   "cell_type": "code",
   "execution_count": null,
   "metadata": {},
   "outputs": [],
   "source": []
  }
 ],
 "metadata": {
  "kernelspec": {
   "display_name": "Python 3.10.11 ('venv': venv)",
   "language": "python",
   "name": "python3"
  },
  "language_info": {
   "codemirror_mode": {
    "name": "ipython",
    "version": 3
   },
   "file_extension": ".py",
   "mimetype": "text/x-python",
   "name": "python",
   "nbconvert_exporter": "python",
   "pygments_lexer": "ipython3",
   "version": "3.10.11"
  },
  "orig_nbformat": 4,
  "vscode": {
   "interpreter": {
    "hash": "284622435fb6bedbdbea95918836920056632c21381432dd4986acf2b6bfea8b"
   }
  }
 },
 "nbformat": 4,
 "nbformat_minor": 2
}
